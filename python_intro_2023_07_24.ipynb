{
  "nbformat": 4,
  "nbformat_minor": 0,
  "metadata": {
    "colab": {
      "provenance": [],
      "include_colab_link": true
    },
    "kernelspec": {
      "name": "python3",
      "display_name": "Python 3"
    }
  },
  "cells": [
    {
      "cell_type": "markdown",
      "metadata": {
        "id": "view-in-github",
        "colab_type": "text"
      },
      "source": [
        "<a href=\"https://colab.research.google.com/github/mallan007/Blog/blob/main/python_intro_2023_07_24.ipynb\" target=\"_parent\"><img src=\"https://colab.research.google.com/assets/colab-badge.svg\" alt=\"Open In Colab\"/></a>"
      ]
    },
    {
      "cell_type": "markdown",
      "metadata": {
        "id": "s1YHdkKsLHv0"
      },
      "source": [
        "## Python: Conhecendo a Linguagem\n",
        "\n"
      ]
    },
    {
      "cell_type": "markdown",
      "metadata": {
        "id": "1gApdkqgLXKj"
      },
      "source": [
        "# O que é Programação?"
      ]
    },
    {
      "cell_type": "markdown",
      "metadata": {
        "id": "CO1A_FvGS1ta"
      },
      "source": [
        "## O que é um programa de computador?\n",
        "## O que é um algoritmo?"
      ]
    },
    {
      "cell_type": "markdown",
      "metadata": {
        "id": "DMgkyMTTL19Z"
      },
      "source": [
        "# Um pouco mais Sobre o Python"
      ]
    },
    {
      "cell_type": "markdown",
      "metadata": {
        "id": "tYa8OguAS87U"
      },
      "source": [
        "## O que programar? (aplicações)\n",
        "## Aonde programar? (ambientes)\n",
        "## Como instalar o interpretador?"
      ]
    },
    {
      "cell_type": "markdown",
      "metadata": {
        "id": "6TwoUJstMFLm"
      },
      "source": [
        "# A linguagem (\"Hello World\")"
      ]
    },
    {
      "cell_type": "code",
      "metadata": {
        "id": "C9WsLUJoT0bP",
        "colab": {
          "base_uri": "https://localhost:8080/"
        },
        "outputId": "fa131772-5320-4d7e-a5b8-5adf4155ca5c"
      },
      "source": [
        "print(\"Hello World\")"
      ],
      "execution_count": null,
      "outputs": [
        {
          "output_type": "stream",
          "name": "stdout",
          "text": [
            "Hello World\n"
          ]
        }
      ]
    },
    {
      "cell_type": "markdown",
      "metadata": {
        "id": "DZ7l7kimMJG3"
      },
      "source": [
        "#Tipos de Dados básicos"
      ]
    },
    {
      "cell_type": "code",
      "metadata": {
        "id": "30Z0YovCLGcO",
        "colab": {
          "base_uri": "https://localhost:8080/"
        },
        "outputId": "6e99cbcd-314a-4719-9f27-59fdf0a430a6"
      },
      "source": [
        "print(type(5)) # O tipo do número 2 é int (número inteiro)\"\n",
        "print(type(2.5)) # O tipo do número 2.5 é float (número decimal)\n",
        "print(type(1.5+1.5j)) # O tipo do número 1 + 1j (j é o número imaginário) é complex\n",
        "print(type(\"texto\")) # Sequencia de caracteres para armazenar texto\n",
        "print(type(False)) # tipo booleano para Verdadeiro (True) e Falso (False)\n",
        "print(type(None)) # tipo"
      ],
      "execution_count": null,
      "outputs": [
        {
          "output_type": "stream",
          "name": "stdout",
          "text": [
            "<class 'int'>\n",
            "<class 'float'>\n",
            "<class 'complex'>\n",
            "<class 'str'>\n",
            "<class 'bool'>\n",
            "<class 'NoneType'>\n"
          ]
        }
      ]
    },
    {
      "cell_type": "code",
      "source": [
        "print(\"O termo termo esta entre aspas\")"
      ],
      "metadata": {
        "id": "685IlLt6vAWm",
        "colab": {
          "base_uri": "https://localhost:8080/"
        },
        "outputId": "cccfb8a8-1f77-470a-8a7d-454bc2d061ff"
      },
      "execution_count": null,
      "outputs": [
        {
          "output_type": "stream",
          "name": "stdout",
          "text": [
            "O termo termo esta entre aspas\n"
          ]
        }
      ]
    },
    {
      "cell_type": "markdown",
      "metadata": {
        "id": "aU6gFhrxM8TS"
      },
      "source": [
        "## Variáveis\n",
        "\n",
        "Uma variável não pode ter o nome comçado por números, eveitmem palavras-chave da linaguagem e caracateres especiais"
      ]
    },
    {
      "cell_type": "code",
      "metadata": {
        "id": "ChunySn1M-oz",
        "colab": {
          "base_uri": "https://localhost:8080/",
          "height": 132
        },
        "outputId": "677b44bd-e64c-4b59-93cb-183b7229abcd"
      },
      "source": [
        "# nome_da_variavel = valor\n",
        "altura_guilherme =  1.9\n",
        "texto = \"Hello world\"\n",
        "chovendo = True\n",
        "sabor_bolo = \"de Fubá\""
      ],
      "execution_count": null,
      "outputs": [
        {
          "output_type": "error",
          "ename": "SyntaxError",
          "evalue": "ignored",
          "traceback": [
            "\u001b[0;36m  File \u001b[0;32m\"<ipython-input-18-98a5eeb02a1d>\"\u001b[0;36m, line \u001b[0;32m2\u001b[0m\n\u001b[0;31m    altura guilherme =  1.9\u001b[0m\n\u001b[0m           ^\u001b[0m\n\u001b[0;31mSyntaxError\u001b[0m\u001b[0;31m:\u001b[0m invalid syntax\n"
          ]
        }
      ]
    },
    {
      "cell_type": "code",
      "source": [],
      "metadata": {
        "id": "0A0ZnUgJASdV"
      },
      "execution_count": null,
      "outputs": []
    },
    {
      "cell_type": "markdown",
      "metadata": {
        "id": "1NlSUBtMM_7H"
      },
      "source": [
        "## Operações básicas (e nem tão básicas)"
      ]
    },
    {
      "cell_type": "markdown",
      "metadata": {
        "id": "ZTpQVXKzNHtY"
      },
      "source": [
        "### Com dados numéricos"
      ]
    },
    {
      "cell_type": "code",
      "metadata": {
        "id": "-UCzQIB9NF-j",
        "colab": {
          "base_uri": "https://localhost:8080/"
        },
        "outputId": "62a61dec-80cf-4965-92fa-64f91b670a6a"
      },
      "source": [
        "print(1 + 2) # o '+' é a soma usual\n",
        "print(10.5 - 1.5) # o '-' é a subtração usual\n",
        "print(2 * -2) # o '*' é a multiplicação usual\n",
        "print(2 / 3) # o '/' é a divisão usual\n",
        "\n",
        "print(4 ** -0.5) # o '**' é a exponenciação\n",
        "print(2 // 3) # o '//' é o quociente da divisão inteira\n",
        "print(2 % 3) # o '%' é o resto da divisão inteiro"
      ],
      "execution_count": null,
      "outputs": [
        {
          "output_type": "stream",
          "name": "stdout",
          "text": [
            "3\n",
            "9.0\n",
            "-4\n",
            "0.6666666666666666\n",
            "0.5\n",
            "0\n",
            "2\n"
          ]
        }
      ]
    },
    {
      "cell_type": "code",
      "source": [
        "quociente = 20 // 6\n",
        "resto = 20 % 6\n",
        "divisao_normal = 20/6\n",
        "print(quociente, resto, divisao_normal)"
      ],
      "metadata": {
        "id": "a6gSQTCykdr8",
        "colab": {
          "base_uri": "https://localhost:8080/"
        },
        "outputId": "9c7f1bc4-035a-41d2-b8d6-67103c809f0c"
      },
      "execution_count": null,
      "outputs": [
        {
          "output_type": "stream",
          "name": "stdout",
          "text": [
            "3 2 3.3333333333333335\n"
          ]
        }
      ]
    },
    {
      "cell_type": "markdown",
      "metadata": {
        "id": "Nh39_SevNKtR"
      },
      "source": [
        "### Com dados texto"
      ]
    },
    {
      "cell_type": "code",
      "metadata": {
        "id": "NSrdoQRvsLG-",
        "colab": {
          "base_uri": "https://localhost:8080/"
        },
        "outputId": "55317531-bd4e-4773-f008-cd02e8d73d25"
      },
      "source": [
        "turno = \"tarde\"\n",
        "resultado =  \"Boa \" + turno + \"!\" + \" Seja bem vindo.\" # o '+' é a concatenação de strings\n",
        "print(resultado)"
      ],
      "execution_count": null,
      "outputs": [
        {
          "output_type": "stream",
          "name": "stdout",
          "text": [
            "Boa tarde! Seja bem vindo.\n"
          ]
        }
      ]
    },
    {
      "cell_type": "code",
      "source": [
        "\"ola\" + \" tchau\""
      ],
      "metadata": {
        "colab": {
          "base_uri": "https://localhost:8080/",
          "height": 35
        },
        "id": "baXOBF70FEFL",
        "outputId": "39b93233-dcb1-4447-a970-94f434e8362d"
      },
      "execution_count": null,
      "outputs": [
        {
          "output_type": "execute_result",
          "data": {
            "text/plain": [
              "'ola, tchau'"
            ],
            "application/vnd.google.colaboratory.intrinsic+json": {
              "type": "string"
            }
          },
          "metadata": {},
          "execution_count": 15
        }
      ]
    },
    {
      "cell_type": "code",
      "source": [
        "\"tchau\" + \" ola\""
      ],
      "metadata": {
        "colab": {
          "base_uri": "https://localhost:8080/",
          "height": 35
        },
        "id": "qyR2lE1XFI86",
        "outputId": "0781e098-3112-47e5-8463-e21d645bed56"
      },
      "execution_count": null,
      "outputs": [
        {
          "output_type": "execute_result",
          "data": {
            "text/plain": [
              "'tchau ola'"
            ],
            "application/vnd.google.colaboratory.intrinsic+json": {
              "type": "string"
            }
          },
          "metadata": {},
          "execution_count": 13
        }
      ]
    },
    {
      "cell_type": "code",
      "metadata": {
        "id": "7AhtcKhTsz39",
        "colab": {
          "base_uri": "https://localhost:8080/",
          "height": 35
        },
        "outputId": "1531e85f-8111-4623-bf22-081fefe63488"
      },
      "source": [
        "'k' * 15 # o '*' repete a string x vezes onde x é um número inteiro"
      ],
      "execution_count": null,
      "outputs": [
        {
          "output_type": "execute_result",
          "data": {
            "text/plain": [
              "'kkkkkkkkkkkkkkk'"
            ],
            "application/vnd.google.colaboratory.intrinsic+json": {
              "type": "string"
            }
          },
          "metadata": {},
          "execution_count": 18
        }
      ]
    },
    {
      "cell_type": "markdown",
      "metadata": {
        "id": "yIOzt-VHN8hi"
      },
      "source": [
        "### Com booleanos"
      ]
    },
    {
      "cell_type": "code",
      "metadata": {
        "id": "Cxw63HxZSCLl",
        "colab": {
          "base_uri": "https://localhost:8080/"
        },
        "outputId": "2bafe726-b755-4e35-c987-4a5b3cdfae26"
      },
      "source": [
        "False * 10 # converte o True para 1 e o False para 0 e faz numericamente"
      ],
      "execution_count": null,
      "outputs": [
        {
          "output_type": "execute_result",
          "data": {
            "text/plain": [
              "0"
            ]
          },
          "metadata": {},
          "execution_count": 19
        }
      ]
    },
    {
      "cell_type": "code",
      "source": [
        "True + True"
      ],
      "metadata": {
        "id": "xJyLaC-3oqmd",
        "colab": {
          "base_uri": "https://localhost:8080/"
        },
        "outputId": "7ca11e7c-f649-4608-e13a-7b5d3236d6f3"
      },
      "execution_count": null,
      "outputs": [
        {
          "output_type": "execute_result",
          "data": {
            "text/plain": [
              "2"
            ]
          },
          "metadata": {},
          "execution_count": 21
        }
      ]
    },
    {
      "cell_type": "markdown",
      "source": [
        "## Conversão de tipos de Dados"
      ],
      "metadata": {
        "id": "-nxpBytNluVv"
      }
    },
    {
      "cell_type": "code",
      "metadata": {
        "id": "GIIi8k8pmjUB",
        "colab": {
          "base_uri": "https://localhost:8080/"
        },
        "outputId": "ae96b76b-273c-4537-db90-d4a07b58bba4"
      },
      "source": [
        "# conversão de tipos de Dados\n",
        "string = \"3\"\n",
        "string_convertido = int(string)\n",
        "string_convertido + 10"
      ],
      "execution_count": null,
      "outputs": [
        {
          "output_type": "execute_result",
          "data": {
            "text/plain": [
              "13"
            ]
          },
          "metadata": {},
          "execution_count": 34
        }
      ]
    },
    {
      "cell_type": "code",
      "source": [
        "10 + float('10')"
      ],
      "metadata": {
        "id": "H7okRieXFCA_",
        "colab": {
          "base_uri": "https://localhost:8080/"
        },
        "outputId": "9b1ac8df-082a-4acf-a1f6-2f3a274c012b"
      },
      "execution_count": null,
      "outputs": [
        {
          "output_type": "execute_result",
          "data": {
            "text/plain": [
              "20.0"
            ]
          },
          "metadata": {},
          "execution_count": 29
        }
      ]
    },
    {
      "cell_type": "code",
      "source": [
        "numero_favorito = 20"
      ],
      "metadata": {
        "id": "ie4Hk_7LXaFr"
      },
      "execution_count": null,
      "outputs": []
    },
    {
      "cell_type": "code",
      "source": [
        "\"ola, meu numero favorito é \" + str(numero_favorito)"
      ],
      "metadata": {
        "id": "1FQRf0FqqlmG",
        "colab": {
          "base_uri": "https://localhost:8080/",
          "height": 35
        },
        "outputId": "25f937be-3f07-446d-a519-0faf16b48b0a"
      },
      "execution_count": null,
      "outputs": [
        {
          "output_type": "execute_result",
          "data": {
            "text/plain": [
              "'ola, meu numero favorito é 50'"
            ],
            "application/vnd.google.colaboratory.intrinsic+json": {
              "type": "string"
            }
          },
          "metadata": {},
          "execution_count": 43
        }
      ]
    },
    {
      "cell_type": "code",
      "source": [
        "numero_favorito= 50"
      ],
      "metadata": {
        "id": "kPNDqP7vJQol"
      },
      "execution_count": null,
      "outputs": []
    },
    {
      "cell_type": "code",
      "source": [],
      "metadata": {
        "colab": {
          "base_uri": "https://localhost:8080/"
        },
        "id": "b6iPY_PAuNCs",
        "outputId": "9b2fcbc4-d556-45c2-a2c0-c6fe39e7a4be"
      },
      "execution_count": null,
      "outputs": [
        {
          "output_type": "execute_result",
          "data": {
            "text/plain": [
              "1"
            ]
          },
          "metadata": {},
          "execution_count": 63
        }
      ]
    },
    {
      "cell_type": "markdown",
      "source": [
        "## Exercícios"
      ],
      "metadata": {
        "id": "M7_hinXrl3OT"
      }
    },
    {
      "cell_type": "code",
      "source": [
        "# transforma centimetros em polegadas\n",
        "\n"
      ],
      "metadata": {
        "id": "j0x23wN3jveT"
      },
      "execution_count": null,
      "outputs": []
    },
    {
      "cell_type": "code",
      "metadata": {
        "id": "ZXpfLxgOiwas"
      },
      "source": [
        "### Escreva uma sequência de operações em python que converta um valor em real para dólar -> 1 dol = 4,75 real\n",
        "\n"
      ],
      "execution_count": null,
      "outputs": []
    },
    {
      "cell_type": "code",
      "metadata": {
        "id": "I9npnYCX7qdj"
      },
      "source": [
        "## Escreva uma sequência de operações em python que converta um valor em dólar para real\n"
      ],
      "execution_count": null,
      "outputs": []
    },
    {
      "cell_type": "code",
      "metadata": {
        "id": "4TMp9tEvW30k",
        "colab": {
          "base_uri": "https://localhost:8080/"
        },
        "outputId": "23f9145b-2058-4126-e00d-8b95c731ba3f"
      },
      "source": [
        "## Exercicio Conversão de Celsius para Fahrenheit\n",
        "##  C * 9/5  + 32 = F\n",
        "\n",
        "# C = 0;   F = 32\n",
        "# C = 100; F = 212\n",
        "# C = -10; F = 14\n",
        "\n",
        "temperatura_celsius = float(input(\"Informe a temperatura em Celsius: \"))\n",
        "temperatura_fahreinheit = temperatura_celsius * 1.8 + 32\n",
        "print(f'A temperatura em Farenheit é: {temperatura_fahreinheit:.5f}ºF')\n",
        "\n",
        "#f[ormat]-string"
      ],
      "execution_count": null,
      "outputs": [
        {
          "output_type": "stream",
          "name": "stdout",
          "text": [
            "Informe a temperatura em Celsius: 100\n",
            "A temperatura em Farenheit é: 212.00000ºF\n"
          ]
        }
      ]
    },
    {
      "cell_type": "code",
      "source": [
        "nome_do_usuario = input(\"Informe seu nome: \")"
      ],
      "metadata": {
        "colab": {
          "base_uri": "https://localhost:8080/"
        },
        "id": "5KhK6yEEUlvu",
        "outputId": "fd254960-62eb-4a65-edac-274ffbdcce61"
      },
      "execution_count": null,
      "outputs": [
        {
          "name": "stdout",
          "output_type": "stream",
          "text": [
            "Informe seu nome: Guilherme\n"
          ]
        }
      ]
    },
    {
      "cell_type": "code",
      "source": [
        "print(nome_do_usuario)"
      ],
      "metadata": {
        "colab": {
          "base_uri": "https://localhost:8080/"
        },
        "id": "QZDLx7soUzGm",
        "outputId": "85423c48-348c-4d1a-e786-486c682f64a3"
      },
      "execution_count": null,
      "outputs": [
        {
          "output_type": "stream",
          "name": "stdout",
          "text": [
            "Guilherme\n"
          ]
        }
      ]
    },
    {
      "cell_type": "markdown",
      "metadata": {
        "id": "Y19Z_OGlRlSE"
      },
      "source": [
        "\n",
        "# Desvios condicionais"
      ]
    },
    {
      "cell_type": "code",
      "metadata": {
        "id": "7DBV1KJYvjkB",
        "colab": {
          "base_uri": "https://localhost:8080/"
        },
        "outputId": "dda05bd4-9ef2-439d-8143-0d695b5f3134"
      },
      "source": [
        "# Operadores de Comparação\n",
        "\n",
        "print(f\"3 == 3: {3 == 3}\") # '==' representa igualdade\n",
        "print('\"texto\" == \"texto\":', \"texto\" == \"texto\")\n",
        "print('\"2.34\" == 2.34:', \"2.34\" == 2.34)\n",
        "variavel = 5\n",
        "variavel2 = 13\n",
        "print(\"2*variavel == variavel2:\", 2*variavel == variavel2)\n",
        "\n",
        "print(\"3 != 2:\", 3 != 2) # '!=' verifica se os números são diferentes\n",
        "print(\"2 != 2:\", 2 != 2) # '!=' verifica se os números são diferentes\n",
        "print('\"texTo\" != \"texto\":', \"texTo\" != \"texto\")\n",
        "\n",
        "print(\"2 > 3:\", 2 > 3) # '>' verifica se o número a esquerda do símbolo é maior que o da direita\n",
        "print(\"2 > 2:\", 2 > 2)\n",
        "print(\"2 < 3:\", 2 < 3) # '<' verifica se o número a esquerda do símbolo é menor que o da direita\n",
        "print(\"2 < 2:\", 2 < 2)\n",
        "print(\"'Zulu' < '123':\", \"Zulu\" < \"123\")\n",
        "\n",
        "print(\"2 >= 3:\", 2 >= 3) # '>=' verifica se o número a esquerda do símbolo é maior ou igual que o da direita\n",
        "print(\"2 >= 2:\", 2 >= 2)\n",
        "print(\"2 <= 3:\", 2 <= 3) # '<=' verifica se o número a esquerda do símbolo é menor ou igual que o da direita\n",
        "print(\"2 <= 2:\", 2 <= 2)\n",
        "print(\"'abacaxi' <= 'abacate':\", \"abacaxi\" <= \"abacate\")\n"
      ],
      "execution_count": null,
      "outputs": [
        {
          "output_type": "stream",
          "name": "stdout",
          "text": [
            "3 == 3: True\n",
            "\"texto\" == \"texto\": True\n",
            "\"2.34\" == 2.34: False\n",
            "2*variavel == variavel2: False\n",
            "3 != 2: True\n",
            "2 != 2: False\n",
            "\"texTo\" != \"texto\": True\n",
            "2 > 3: False\n",
            "2 > 2: False\n",
            "2 < 3: True\n",
            "2 < 2: False\n",
            "'Zulu' < '123': False\n",
            "2 >= 3: False\n",
            "2 >= 2: True\n",
            "2 <= 3: True\n",
            "2 <= 2: True\n",
            "'abacaxi' <= 'abacate': False\n"
          ]
        }
      ]
    },
    {
      "cell_type": "markdown",
      "source": [
        "### Bloco `If`"
      ],
      "metadata": {
        "id": "-dsN9LeRS5kJ"
      }
    },
    {
      "cell_type": "code",
      "source": [
        "senha = \"feijoada\"\n",
        "\n",
        "print(\"começa o programa\")\n",
        "if senha == \"pudim\":  #Se\n",
        "  print(\"Entrei no if!\")\n",
        "  print(\"outro comando do if\")\n",
        "print(\"Continua o programa\")\n",
        "\n"
      ],
      "metadata": {
        "id": "Fc7Utn2fiDGh",
        "colab": {
          "base_uri": "https://localhost:8080/"
        },
        "outputId": "ece1918b-b2f0-4d0d-9e81-17107aae17bc"
      },
      "execution_count": null,
      "outputs": [
        {
          "output_type": "stream",
          "name": "stdout",
          "text": [
            "começa o programa\n",
            "Continua o programa\n"
          ]
        }
      ]
    },
    {
      "cell_type": "code",
      "source": [
        "media = float(input(\"digite sua media: \"))\n",
        "\n",
        "if media >= 5:\n",
        "  print(\"aprovado\")\n",
        "else:\n",
        "  print(\"reprovado\")"
      ],
      "metadata": {
        "colab": {
          "base_uri": "https://localhost:8080/",
          "height": 132
        },
        "id": "OMigGvH7T96k",
        "outputId": "5c0d2821-baa9-431d-8ad3-c5d0f2282271"
      },
      "execution_count": null,
      "outputs": [
        {
          "output_type": "error",
          "ename": "SyntaxError",
          "evalue": "ignored",
          "traceback": [
            "\u001b[0;36m  File \u001b[0;32m\"<ipython-input-33-643960ed03a6>\"\u001b[0;36m, line \u001b[0;32m5\u001b[0m\n\u001b[0;31m    else:\u001b[0m\n\u001b[0m    ^\u001b[0m\n\u001b[0;31mSyntaxError\u001b[0m\u001b[0;31m:\u001b[0m invalid syntax\n"
          ]
        }
      ]
    },
    {
      "cell_type": "code",
      "source": [
        "media = float(input(\"digite a media do aluno: \"))\n",
        "\n",
        "# media = 8\n",
        "\n",
        "if media > 5:\n",
        "  print(\"aprovado\")\n",
        "else:\n",
        "  if media < 5:\n",
        "    print(\"reprovado\")\n",
        "  else:\n",
        "    print(\"foi pro conselho\")"
      ],
      "metadata": {
        "colab": {
          "base_uri": "https://localhost:8080/"
        },
        "id": "P-KyE-OIYkqr",
        "outputId": "4b82464e-186f-4667-c25c-5f34cb903286"
      },
      "execution_count": null,
      "outputs": [
        {
          "output_type": "stream",
          "name": "stdout",
          "text": [
            "digite a media do aluno: 3\n",
            "reprovado\n"
          ]
        }
      ]
    },
    {
      "cell_type": "code",
      "source": [],
      "metadata": {
        "id": "Hh_HMwFBYk8H"
      },
      "execution_count": null,
      "outputs": []
    },
    {
      "cell_type": "markdown",
      "source": [
        "### Uso do `Else`"
      ],
      "metadata": {
        "id": "zIqAIuqjTAwA"
      }
    },
    {
      "cell_type": "code",
      "source": [
        "valor_pix = float(input(\"valor\"))\n",
        "saldo_pessoa = float(input(\"valor\"))"
      ],
      "metadata": {
        "id": "bUctlFdrmSfE",
        "colab": {
          "base_uri": "https://localhost:8080/"
        },
        "outputId": "a577c1bf-0838-4cd3-d35d-de0de2d48d1b"
      },
      "execution_count": null,
      "outputs": [
        {
          "name": "stdout",
          "output_type": "stream",
          "text": [
            "valor100\n",
            "valor10\n"
          ]
        }
      ]
    },
    {
      "cell_type": "code",
      "source": [
        "if valor_pix > saldo_pessoa:\n",
        "    print(\"você não possui saldo suficiente para essa operação!\")\n",
        "else: # valor_pix <= saldo_pessoa\n",
        "    print(\"Pix efetuado com sucesso!\")"
      ],
      "metadata": {
        "id": "zCPD5AtOmZZo",
        "colab": {
          "base_uri": "https://localhost:8080/"
        },
        "outputId": "f1d56a54-5ae0-489d-c84f-ee17ab524803"
      },
      "execution_count": null,
      "outputs": [
        {
          "output_type": "stream",
          "name": "stdout",
          "text": [
            "você não possui saldo suficiente para essa operação!\n"
          ]
        }
      ]
    },
    {
      "cell_type": "code",
      "source": [
        "if valor_pix <= saldo_pessoa:\n",
        "  print(\"Pix efetuado com sucesso!\")\n",
        "else: # valor_pix > saldo_pessoa\n",
        "  print(\"você não possui saldo suficiente para essa operação!\")"
      ],
      "metadata": {
        "colab": {
          "base_uri": "https://localhost:8080/"
        },
        "id": "4pt6ay49W2JA",
        "outputId": "1ecc55f2-baf8-42e1-b1af-1862f6c425ba"
      },
      "execution_count": null,
      "outputs": [
        {
          "output_type": "stream",
          "name": "stdout",
          "text": [
            "você não possui saldo suficiente para essa operação!\n"
          ]
        }
      ]
    },
    {
      "cell_type": "markdown",
      "source": [
        "### Desvio multicondicional"
      ],
      "metadata": {
        "id": "6Qqgwg2_TEy1"
      }
    },
    {
      "cell_type": "code",
      "source": [
        "media = 5  # media < 3 -> reprovado; 3 <= media < 5 -> rec; 5 <= 10 aprovado; == 10 aprovado com louvor"
      ],
      "metadata": {
        "id": "OFuZX7gkpFqx"
      },
      "execution_count": null,
      "outputs": []
    },
    {
      "cell_type": "code",
      "source": [
        "# Varios If's\n",
        "if 0 <= media < 3:\n",
        "  print(\"Reprovado\")\n",
        "if 3 <= media < 5:\n",
        "  print(\"Recuperação\")\n",
        "if 5 <= media < 10:\n",
        "  print(\"Aprovado\")\n",
        "if media == 10:\n",
        "  print(\"Aprovado com louvor\")"
      ],
      "metadata": {
        "id": "j1MHrpDgrCHH",
        "colab": {
          "base_uri": "https://localhost:8080/"
        },
        "outputId": "1c5be390-7354-40ab-c6c9-1c2cb42b3729"
      },
      "execution_count": null,
      "outputs": [
        {
          "output_type": "stream",
          "name": "stdout",
          "text": [
            "Aprovado\n"
          ]
        }
      ]
    },
    {
      "cell_type": "code",
      "source": [
        "# If e Else aninhados\n",
        "if media >= 3:\n",
        "  if media >= 5:\n",
        "    if media == 10:\n",
        "      print(\"aprovado com louvor\")\n",
        "    else:\n",
        "      print(\"aprovado\")\n",
        "  else:\n",
        "    print(\"recuperação\")\n",
        "else:\n",
        "  print(\"Reprovado\")"
      ],
      "metadata": {
        "id": "leohjcZKuX7V",
        "colab": {
          "base_uri": "https://localhost:8080/"
        },
        "outputId": "5ef76f0a-9dab-4a8d-ac27-a0bdd937bc93"
      },
      "execution_count": null,
      "outputs": [
        {
          "output_type": "stream",
          "name": "stdout",
          "text": [
            "aprovado\n"
          ]
        }
      ]
    },
    {
      "cell_type": "code",
      "source": [
        "if media == 10:\n",
        "  print(\"aprovado com louvor\")\n",
        "else:\n",
        "  if media >= 5:\n",
        "    print(\"aprovado\")\n",
        "  else:\n",
        "    if media >= 3:\n",
        "      print(\"recuperação\")\n",
        "    else:\n",
        "      print(\"reprovado\")\n"
      ],
      "metadata": {
        "id": "1VSZwqbUu7z1",
        "colab": {
          "base_uri": "https://localhost:8080/"
        },
        "outputId": "9b862a3c-8ee1-49ae-ae36-ced9710c2c8c"
      },
      "execution_count": null,
      "outputs": [
        {
          "output_type": "stream",
          "name": "stdout",
          "text": [
            "aprovado\n"
          ]
        }
      ]
    },
    {
      "cell_type": "code",
      "source": [
        "# Elif\n",
        "if media == 10:\n",
        "  print(\"aprovado com louvor\")\n",
        "elif media >= 5:\n",
        "  print(\"aprovado\")\n",
        "elif media >= 3:\n",
        "  print(\"recuperação\")\n",
        "else:\n",
        "  print(\"reprovado\")"
      ],
      "metadata": {
        "id": "vyyGHkLfzY0C"
      },
      "execution_count": null,
      "outputs": []
    },
    {
      "cell_type": "code",
      "metadata": {
        "id": "Aw2iw7Kdyhyq",
        "colab": {
          "base_uri": "https://localhost:8080/"
        },
        "outputId": "2dedc568-169e-42d2-b522-76e8abdced15"
      },
      "source": [
        "# Equação de 2 Grau\n",
        "\n",
        "# a*x² + b*x + c = 0\n",
        "# x² - x + 1 = 0 -> delta = -3 < 0\n",
        "# x² +2x + 1 = 0 -> delta = 0\n",
        "# x^2 - 4x = 0 - > delta = 16 > 0\n",
        "\n",
        "\n",
        "from math import sqrt\n",
        "\n",
        "a = float(input(\"Digite o valor de a: \"))\n",
        "b = float(input(\"Digite o valor de b: \"))\n",
        "c = float(input(\"Digite o valor de c: \"))\n",
        "\n",
        "\n",
        "if a == 0:\n",
        "  print(\"o valor de a não pode ser 0!\")\n",
        "else:\n",
        "  delta = b * b -4 * a * c\n",
        "\n",
        "  if delta < 0:\n",
        "    print(\"Não existem raízes reais\")\n",
        "  elif delta == 0:\n",
        "    x = -b/(2*a)\n",
        "    print(f'existe uma única raíz x = {x}')\n",
        "  else:\n",
        "      x1 = (-b - sqrt(delta))/(2*a)\n",
        "      x2 = (-b + sqrt(delta))/(2*a)\n",
        "      print(f\"Existem duas raízes reias: x1 = {x1} e x2 = {x2}\")\n",
        "\n",
        "\n"
      ],
      "execution_count": null,
      "outputs": [
        {
          "output_type": "stream",
          "name": "stdout",
          "text": [
            "Digite o valor de a: 1\n",
            "Digite o valor de b: -4\n",
            "Digite o valor de c: 0\n",
            "Existem duas raízes reias: x1 = 0.0 e x2 = 4.0\n"
          ]
        }
      ]
    },
    {
      "cell_type": "code",
      "metadata": {
        "id": "yhmC1YFR1ZOf"
      },
      "source": [
        "##  Carro flex\n",
        "\n",
        "## se o valor etanol for maior que 70% do valor do valor gasolina -> gasolina\n",
        "## se o valor do etanol for menor ou igual a 70% do valor gasolina -> etanol\n",
        "\n",
        "\n",
        "#gasolina, etanol = 4, 1 # etanol\n",
        "#gasolina, etanol = 4, 3 # gasolina\n",
        "#gasolina, etanol = 10, 7 # etanol\n",
        "#gasolina, etanol = 10, 7.0000000001 #gasolina"
      ],
      "execution_count": null,
      "outputs": []
    },
    {
      "cell_type": "markdown",
      "metadata": {
        "id": "zGNPUq9q3AYn"
      },
      "source": [
        "### Exercicio\n",
        "dada a tabela o IR, faça um programa que recebe o salário de um trabalhador e devolve o valor do imposto. Utilizando a regra de imposto efetiva até 2021\n",
        "\n",
        "|Base de cálculo (R$)\t|Alíquota (%)|\n",
        "--------------------- |-------------|\n",
        "|Abaixo de 1.903,98    | 0%  |\n",
        "|De 1.903,99 até 2.826,65|\t7,5%\t|\n",
        "|De 2.826,66 até 3.751,05|\t15%\t|\n",
        "|De 3.751,06 até 4.664,68|\t22,5%\t|\n",
        "|Acima de 4.664,69|\t27,5%|"
      ]
    },
    {
      "cell_type": "code",
      "metadata": {
        "id": "HKHvlmmN37VH"
      },
      "source": [],
      "execution_count": null,
      "outputs": []
    },
    {
      "cell_type": "markdown",
      "metadata": {
        "id": "t_3jPIRCRuLl"
      },
      "source": [
        "# Laços de repetição"
      ]
    },
    {
      "cell_type": "markdown",
      "metadata": {
        "id": "e7KoKb_pR0Qa"
      },
      "source": [
        "## While (enquanto)"
      ]
    },
    {
      "cell_type": "code",
      "metadata": {
        "id": "4BsdnkpXwlP4",
        "colab": {
          "base_uri": "https://localhost:8080/"
        },
        "outputId": "a12e0622-8711-401a-98da-6f351e808ae5"
      },
      "source": [
        "numero = 10 # inicialização\n",
        "while numero > 1: # condição de repetição\n",
        "  print(numero)\n",
        "  numero /= 2 # atualização da da variável\n",
        "  break\n",
        "print(\"acabou\")\n"
      ],
      "execution_count": null,
      "outputs": [
        {
          "output_type": "stream",
          "name": "stdout",
          "text": [
            "10\n",
            "acabou\n"
          ]
        }
      ]
    },
    {
      "cell_type": "code",
      "source": [
        "print(numero)"
      ],
      "metadata": {
        "colab": {
          "base_uri": "https://localhost:8080/"
        },
        "id": "JvKYurVIww9z",
        "outputId": "3ac29abb-8e8b-414d-caaa-62d7aa492e9c"
      },
      "execution_count": null,
      "outputs": [
        {
          "output_type": "stream",
          "name": "stdout",
          "text": [
            "15\n"
          ]
        }
      ]
    },
    {
      "cell_type": "code",
      "metadata": {
        "id": "RD5_x2Zk0Zm7",
        "colab": {
          "base_uri": "https://localhost:8080/"
        },
        "outputId": "ab4019e1-bc23-49d6-b4ec-f552ec68bad4"
      },
      "source": [
        "# Faça um programa em python que lê palavras digitadas pelo usuário até que ele digite \"sair\".\n",
        "# Depois informe quantas palavras ela digitou\n",
        "\n",
        "\n",
        "numero_de_palavras = 0\n",
        "palavra = input(\"Digite uma palavra ou 'sair' para sair: \")\n",
        "while not palavra.lower() == 'sair':\n",
        "  numero_de_palavras += 1\n",
        "  palavra = input(\"Digite outra palavra ou 'sair' para sair: \")\n",
        "\n",
        "print(f\"Você digitou {numero_de_palavras} palavras\")"
      ],
      "execution_count": null,
      "outputs": [
        {
          "output_type": "stream",
          "name": "stdout",
          "text": [
            "Digite uma palavra ou 'sair' para sair: sAir\n",
            "Você digitou 0 palavras\n"
          ]
        }
      ]
    },
    {
      "cell_type": "code",
      "source": [
        "#and -> conjunção logica\n",
        "#  A   B   A and B\n",
        "#  F   F     F\n",
        "#  F   V     F\n",
        "#  V   F     F\n",
        "#  V   V     V\n",
        "\n",
        "#or -> disjunção logica\n",
        "\n",
        "#  A   B   A or B\n",
        "#  F   F     F\n",
        "#  F   V     V\n",
        "#  V   F     V\n",
        "#  V   V     V\n",
        "\n",
        "#not -> negação logica\n",
        "\n",
        "#  A   not A\n",
        "#  F     V\n",
        "#  V     F"
      ],
      "metadata": {
        "id": "BjHTVZ3eeSyU"
      },
      "execution_count": null,
      "outputs": []
    },
    {
      "cell_type": "code",
      "metadata": {
        "id": "JOHNNi2e1YMK"
      },
      "source": [
        "# fazer um código python que calcula x^y\n",
        "\n"
      ],
      "execution_count": null,
      "outputs": []
    },
    {
      "cell_type": "code",
      "metadata": {
        "id": "eUk0gZqw3m6-"
      },
      "source": [
        "## Le números do usuário até ele digitar o numero -1 (ok)\n",
        "## calcula a média dos números digitados\n"
      ],
      "execution_count": null,
      "outputs": []
    },
    {
      "cell_type": "code",
      "metadata": {
        "id": "dnV6i9zQsqGV"
      },
      "source": [
        "## Calcule o fatorial de um número\n"
      ],
      "execution_count": null,
      "outputs": []
    },
    {
      "cell_type": "markdown",
      "metadata": {
        "id": "Z0X8VVoXOBdl"
      },
      "source": [
        "# Coleções de dados"
      ]
    },
    {
      "cell_type": "markdown",
      "metadata": {
        "id": "UaUM36SEOLB9"
      },
      "source": [
        "### Listas"
      ]
    },
    {
      "cell_type": "code",
      "source": [
        "lista = 2"
      ],
      "metadata": {
        "id": "03iBm2dDku0d"
      },
      "execution_count": null,
      "outputs": []
    },
    {
      "cell_type": "code",
      "metadata": {
        "id": "E9iNXUgHOEBt"
      },
      "source": [
        "lista = [\"ola\", \"alo\", 1, 1.34, True]"
      ],
      "execution_count": null,
      "outputs": []
    },
    {
      "cell_type": "code",
      "source": [
        "print(lista)"
      ],
      "metadata": {
        "id": "Se4rDpfbEiMS",
        "colab": {
          "base_uri": "https://localhost:8080/"
        },
        "outputId": "43c88410-7b7a-43ac-f7b9-75cb92507fcb"
      },
      "execution_count": null,
      "outputs": [
        {
          "output_type": "stream",
          "name": "stdout",
          "text": [
            "2\n"
          ]
        }
      ]
    },
    {
      "cell_type": "code",
      "metadata": {
        "id": "JT_mvQMqfCuG",
        "colab": {
          "base_uri": "https://localhost:8080/",
          "height": 35
        },
        "outputId": "19746eac-7eb4-40d2-ef50-852be76b3a02"
      },
      "source": [
        "# acessar um elemento da lista\n",
        "lista[6]# em uma lista com N elementos os indices vão de 0 até N-1"
      ],
      "execution_count": null,
      "outputs": [
        {
          "output_type": "execute_result",
          "data": {
            "text/plain": [
              "'outro novo elemento'"
            ],
            "application/vnd.google.colaboratory.intrinsic+json": {
              "type": "string"
            }
          },
          "metadata": {},
          "execution_count": 37
        }
      ]
    },
    {
      "cell_type": "code",
      "source": [
        "lista[5] = \"novo valor\"\n",
        "print(lista)"
      ],
      "metadata": {
        "id": "fYkvcCvuLtfE",
        "colab": {
          "base_uri": "https://localhost:8080/",
          "height": 184
        },
        "outputId": "980de9b7-2c69-49ab-ef46-97f7e10bbc06"
      },
      "execution_count": null,
      "outputs": [
        {
          "output_type": "error",
          "ename": "IndexError",
          "evalue": "ignored",
          "traceback": [
            "\u001b[0;31m---------------------------------------------------------------------------\u001b[0m",
            "\u001b[0;31mIndexError\u001b[0m                                Traceback (most recent call last)",
            "\u001b[0;32m<ipython-input-32-7ccb049a7477>\u001b[0m in \u001b[0;36m<cell line: 1>\u001b[0;34m()\u001b[0m\n\u001b[0;32m----> 1\u001b[0;31m \u001b[0mlista\u001b[0m\u001b[0;34m[\u001b[0m\u001b[0;36m5\u001b[0m\u001b[0;34m]\u001b[0m \u001b[0;34m=\u001b[0m \u001b[0;34m\"novo valor\"\u001b[0m\u001b[0;34m\u001b[0m\u001b[0;34m\u001b[0m\u001b[0m\n\u001b[0m\u001b[1;32m      2\u001b[0m \u001b[0mprint\u001b[0m\u001b[0;34m(\u001b[0m\u001b[0mlista\u001b[0m\u001b[0;34m)\u001b[0m\u001b[0;34m\u001b[0m\u001b[0;34m\u001b[0m\u001b[0m\n",
            "\u001b[0;31mIndexError\u001b[0m: list assignment index out of range"
          ]
        }
      ]
    },
    {
      "cell_type": "code",
      "metadata": {
        "id": "Di_85DZgN2d_",
        "colab": {
          "base_uri": "https://localhost:8080/"
        },
        "outputId": "66e1791c-86f0-472d-e8ad-ad66bc82896a"
      },
      "source": [
        "len(lista) # devolve o numero de elementos em uma coleção"
      ],
      "execution_count": null,
      "outputs": [
        {
          "output_type": "execute_result",
          "data": {
            "text/plain": [
              "7"
            ]
          },
          "metadata": {},
          "execution_count": 35
        }
      ]
    },
    {
      "cell_type": "code",
      "metadata": {
        "id": "1ndUtTowh2mh",
        "colab": {
          "base_uri": "https://localhost:8080/"
        },
        "outputId": "a2dc88fa-0796-48e6-9d60-62792fa86f7a"
      },
      "source": [
        "lista.append(True)\n",
        "print(lista)"
      ],
      "execution_count": null,
      "outputs": [
        {
          "output_type": "stream",
          "name": "stdout",
          "text": [
            "['inicio', 'ola', 'alo', 20, 1.34, True, 'depois do True', 'novo elemento', 'outro novo elemento', True]\n"
          ]
        }
      ]
    },
    {
      "cell_type": "code",
      "metadata": {
        "id": "r5CR8Nf8jZ1T",
        "colab": {
          "base_uri": "https://localhost:8080/"
        },
        "outputId": "5ea856c7-e205-4fb6-b5f3-aebe3620bbb0"
      },
      "source": [
        "lista.insert(6, 'depois do True')\n",
        "print(lista)"
      ],
      "execution_count": null,
      "outputs": [
        {
          "output_type": "stream",
          "name": "stdout",
          "text": [
            "['inicio', 'ola', 'alo', 20, 1.34, True, 'depois do True', 'novo elemento', 'outro novo elemento']\n"
          ]
        }
      ]
    },
    {
      "cell_type": "code",
      "source": [
        "lista.index(True)"
      ],
      "metadata": {
        "id": "GVlBT5IWHrC1",
        "colab": {
          "base_uri": "https://localhost:8080/"
        },
        "outputId": "006f1670-9f21-4b9d-cd0b-b27ede8c820a"
      },
      "execution_count": null,
      "outputs": [
        {
          "output_type": "execute_result",
          "data": {
            "text/plain": [
              "4"
            ]
          },
          "metadata": {},
          "execution_count": 48
        }
      ]
    },
    {
      "cell_type": "code",
      "metadata": {
        "id": "h__sJQrikHRK",
        "colab": {
          "base_uri": "https://localhost:8080/"
        },
        "outputId": "ee693423-9ba4-4170-e2a7-9dda822ba321"
      },
      "source": [
        "deletado = lista.pop(1)\n",
        "print(lista)\n",
        "print(deletado)"
      ],
      "execution_count": null,
      "outputs": [
        {
          "output_type": "stream",
          "name": "stdout",
          "text": [
            "['inicio', 'alo', 20, 1.34, True, 'depois do True', 'novo elemento', 'outro novo elemento', True]\n",
            "ola\n"
          ]
        }
      ]
    },
    {
      "cell_type": "code",
      "metadata": {
        "id": "Q4Nie8mt7zt2",
        "colab": {
          "base_uri": "https://localhost:8080/"
        },
        "outputId": "e1a58db1-259f-4661-b6c3-bc3e0f4b64a7"
      },
      "source": [
        "del(lista[3])\n",
        "print(lista)"
      ],
      "execution_count": null,
      "outputs": [
        {
          "output_type": "stream",
          "name": "stdout",
          "text": [
            "['inicio', 'alo', 20, True, 'depois do True', 'novo elemento', 'outro novo elemento', True]\n"
          ]
        }
      ]
    },
    {
      "cell_type": "code",
      "metadata": {
        "id": "mEE7KfNUk0p-",
        "colab": {
          "base_uri": "https://localhost:8080/"
        },
        "outputId": "0e66e490-5529-463b-a620-48a570dc2379"
      },
      "source": [
        "lista2 = []\n",
        "print(lista2)"
      ],
      "execution_count": null,
      "outputs": [
        {
          "output_type": "stream",
          "name": "stdout",
          "text": [
            "[]\n"
          ]
        }
      ]
    },
    {
      "cell_type": "code",
      "source": [
        "lista2.append('1')\n",
        "print(lista2)"
      ],
      "metadata": {
        "colab": {
          "base_uri": "https://localhost:8080/"
        },
        "id": "_dCFHSz3qU3m",
        "outputId": "c7fa9d18-b473-4c5f-d637-4f8c572222a1"
      },
      "execution_count": null,
      "outputs": [
        {
          "output_type": "stream",
          "name": "stdout",
          "text": [
            "['1']\n"
          ]
        }
      ]
    },
    {
      "cell_type": "code",
      "metadata": {
        "id": "dcaEu2qFTbIi",
        "colab": {
          "base_uri": "https://localhost:8080/"
        },
        "outputId": "9a7cce26-32f4-45ac-ae4a-fc2048560ef5"
      },
      "source": [
        "## Modifique o algoritmo que calculava a média dos números\n",
        "## para encontrar a mediana dos valores\n",
        "## dica: Use listas par guardar todos os valores informados\n",
        "\n",
        "# como calcular a mediana\n",
        "# ordenamos os valores do menos para o maior\n",
        "# se tem número impar de valores a mediana é o valor do meio\n",
        "#[ 5 , 1,2] -> [1,2,5] -> 2\n",
        "# Se tem um numero par de valores, a mediana é a media dos 2 centrais\n",
        "#[ 5 , 1, 4,2] -> [1,2,4,5]- > 3 = (2+4)/2\n",
        "\n",
        "numeros = []\n",
        "numero = float(input(\"Digite um número ou 0 para sair: \"))\n",
        "while not numero == 0:\n",
        "  numeros.append(numero)\n",
        "  numero = float(input(\"Digite outro número ou 0 par sair: \"))\n",
        "\n",
        "numeros_ordenados = sorted(numeros)\n",
        "\n",
        "if len(numeros) % 2 == 1:\n",
        "  indice_meio = len(numeros) // 2\n",
        "  mediana = numeros_ordenados[indice_meio]\n",
        "else:\n",
        "  indice2 = len(numeros) // 2\n",
        "  indice1 = indice2 - 1\n",
        "  mediana = (numeros_ordenados[indice1] + numeros_ordenados[indice2])/2\n",
        "\n",
        "print(f\"A mediana é: {mediana}\")"
      ],
      "execution_count": null,
      "outputs": [
        {
          "output_type": "stream",
          "name": "stdout",
          "text": [
            "Digite um número ou 0 para sair: 5\n",
            "Digite outro número ou 0 par sair: 1\n",
            "Digite outro número ou 0 par sair: 4\n",
            "Digite outro número ou 0 par sair: 2\n",
            "Digite outro número ou 0 par sair: 0\n",
            "A mediana é: 3.0\n"
          ]
        }
      ]
    },
    {
      "cell_type": "markdown",
      "source": [],
      "metadata": {
        "id": "nZcsNBMJUcHC"
      }
    },
    {
      "cell_type": "markdown",
      "metadata": {
        "id": "Vs5AG3tpR5Tg"
      },
      "source": [
        "\n",
        "### For (para cada)"
      ]
    },
    {
      "cell_type": "code",
      "source": [
        "lista = [1,4,5,6,7]"
      ],
      "metadata": {
        "id": "j9S1F6kyp0Uv"
      },
      "execution_count": null,
      "outputs": []
    },
    {
      "cell_type": "code",
      "source": [
        "lista[0]"
      ],
      "metadata": {
        "colab": {
          "base_uri": "https://localhost:8080/"
        },
        "id": "8tJEGkW4tsjV",
        "outputId": "bb08d44a-69a8-4435-95f3-8fce9647970e"
      },
      "execution_count": null,
      "outputs": [
        {
          "output_type": "execute_result",
          "data": {
            "text/plain": [
              "4"
            ]
          },
          "metadata": {},
          "execution_count": 61
        }
      ]
    },
    {
      "cell_type": "code",
      "source": [
        "indice = 0\n",
        "while indice < len(lista):\n",
        "  print(lista[indice])\n",
        "  indice = indice + 1"
      ],
      "metadata": {
        "id": "mQppvb16PwmB",
        "colab": {
          "base_uri": "https://localhost:8080/"
        },
        "outputId": "49751c94-00f0-4c0c-ebfd-7fa5fe143c54"
      },
      "execution_count": null,
      "outputs": [
        {
          "output_type": "stream",
          "name": "stdout",
          "text": [
            "1\n",
            "4\n",
            "5\n",
            "6\n",
            "7\n"
          ]
        }
      ]
    },
    {
      "cell_type": "code",
      "metadata": {
        "id": "TeVSaVE9MpZz",
        "colab": {
          "base_uri": "https://localhost:8080/"
        },
        "outputId": "49a79f40-9032-4277-b61e-651b7e533197"
      },
      "source": [
        "for n in lista:\n",
        "  print(n)\n"
      ],
      "execution_count": null,
      "outputs": [
        {
          "output_type": "stream",
          "name": "stdout",
          "text": [
            "1\n",
            "4\n",
            "5\n",
            "6\n",
            "7\n"
          ]
        }
      ]
    },
    {
      "cell_type": "code",
      "source": [
        "numero"
      ],
      "metadata": {
        "colab": {
          "base_uri": "https://localhost:8080/"
        },
        "id": "8oWoQ_dUu7G-",
        "outputId": "bf92839a-36b6-43b3-ee64-99364599bab9"
      },
      "execution_count": null,
      "outputs": [
        {
          "output_type": "execute_result",
          "data": {
            "text/plain": [
              "7"
            ]
          },
          "metadata": {},
          "execution_count": 69
        }
      ]
    },
    {
      "cell_type": "markdown",
      "metadata": {
        "id": "-NL7Brd7OXQK"
      },
      "source": [
        "## Dicionários"
      ]
    },
    {
      "cell_type": "code",
      "metadata": {
        "id": "3KvZ1YQWhQ22"
      },
      "source": [
        "dicionario = {'nome': 'Guilherme', 'matricula': 123456, 'cpf': '36791837802'}"
      ],
      "execution_count": null,
      "outputs": []
    },
    {
      "cell_type": "code",
      "metadata": {
        "id": "jYfLoqQ7wJK1",
        "colab": {
          "base_uri": "https://localhost:8080/",
          "height": 35
        },
        "outputId": "3941ae92-94eb-44cc-fc3e-0549694db72b"
      },
      "source": [
        "dicionario['nome']"
      ],
      "execution_count": null,
      "outputs": [
        {
          "output_type": "execute_result",
          "data": {
            "text/plain": [
              "'Adrubal'"
            ],
            "application/vnd.google.colaboratory.intrinsic+json": {
              "type": "string"
            }
          },
          "metadata": {},
          "execution_count": 82
        }
      ]
    },
    {
      "cell_type": "code",
      "source": [
        "dicionario['nome'] = \"Adrubal\""
      ],
      "metadata": {
        "id": "ZCUuVVlS7UnS"
      },
      "execution_count": null,
      "outputs": []
    },
    {
      "cell_type": "code",
      "source": [
        "print(dicionario)"
      ],
      "metadata": {
        "colab": {
          "base_uri": "https://localhost:8080/"
        },
        "id": "wA5iTard7z2-",
        "outputId": "67ded887-07ba-4c6a-8926-29111ec546d3"
      },
      "execution_count": null,
      "outputs": [
        {
          "output_type": "stream",
          "name": "stdout",
          "text": [
            "{'nome': 'Adrubal', 'matricula': 123456, 'cpf': '36791837802', 'altura': 1.8}\n"
          ]
        }
      ]
    },
    {
      "cell_type": "code",
      "metadata": {
        "id": "sgDJTsc5hICM"
      },
      "source": [
        "dicionario['altura'] = 1.8"
      ],
      "execution_count": null,
      "outputs": []
    },
    {
      "cell_type": "code",
      "metadata": {
        "id": "cesWmaJVMTWO",
        "colab": {
          "base_uri": "https://localhost:8080/"
        },
        "outputId": "89738816-451c-4d47-acc0-00bb9f987dce"
      },
      "source": [
        "len(dicionario)"
      ],
      "execution_count": null,
      "outputs": [
        {
          "output_type": "execute_result",
          "data": {
            "text/plain": [
              "4"
            ]
          },
          "metadata": {},
          "execution_count": 86
        }
      ]
    },
    {
      "cell_type": "code",
      "metadata": {
        "id": "r4EImW7MSHBz",
        "colab": {
          "base_uri": "https://localhost:8080/"
        },
        "outputId": "f0738b57-77b5-43d4-9c1e-3231ad466731"
      },
      "source": [
        "dicionario"
      ],
      "execution_count": null,
      "outputs": [
        {
          "output_type": "execute_result",
          "data": {
            "text/plain": [
              "{'nome': 'Adrubal', 'matricula': 123456, 'cpf': '36791837802', 'altura': 1.8}"
            ]
          },
          "metadata": {},
          "execution_count": 87
        }
      ]
    },
    {
      "cell_type": "code",
      "metadata": {
        "id": "dwvyXg7JwVmN"
      },
      "source": [
        "dicionario['notas'] = {'matematica': [5,6.5,7], 'historia': [1,2]}"
      ],
      "execution_count": null,
      "outputs": []
    },
    {
      "cell_type": "code",
      "metadata": {
        "id": "-t4urkKQxAdC",
        "colab": {
          "base_uri": "https://localhost:8080/"
        },
        "outputId": "db218add-69da-4ef8-936a-5a885546cc11"
      },
      "source": [
        "dicionario"
      ],
      "execution_count": null,
      "outputs": [
        {
          "output_type": "execute_result",
          "data": {
            "text/plain": [
              "{'nome': 'Adrubal',\n",
              " 'matricula': 123456,\n",
              " 'cpf': '36791837802',\n",
              " 'altura': 1.8,\n",
              " 'notas': {'matematica': [5, 6.5, 7], 'historia': [1, 2]}}"
            ]
          },
          "metadata": {},
          "execution_count": 89
        }
      ]
    },
    {
      "cell_type": "code",
      "metadata": {
        "id": "ezhBQbhbx0X9",
        "colab": {
          "base_uri": "https://localhost:8080/"
        },
        "outputId": "c020969d-e063-44f0-c77a-7fb8d5d9a5bf"
      },
      "source": [
        "dicionario['notas']['matematica'][1]"
      ],
      "execution_count": null,
      "outputs": [
        {
          "output_type": "execute_result",
          "data": {
            "text/plain": [
              "6.5"
            ]
          },
          "metadata": {},
          "execution_count": 92
        }
      ]
    },
    {
      "cell_type": "code",
      "metadata": {
        "id": "dbjrEtRVnuoC"
      },
      "source": [
        "alunos = [{'nome': 'Guilherme', 'notas': {'historia': [1, 3, 8] }},{'aluno': 'Gabriel'} ,{'aluno': 'Bianca'}]\n"
      ],
      "execution_count": null,
      "outputs": []
    },
    {
      "cell_type": "code",
      "metadata": {
        "id": "uFsDaKMRx9Vo"
      },
      "source": [
        "if 'ingles' in alunos[0]['notas']:\n",
        "  print(\"ja tem a nota\")"
      ],
      "execution_count": null,
      "outputs": []
    },
    {
      "cell_type": "code",
      "metadata": {
        "id": "ohVSbezpwa1i"
      },
      "source": [
        "print(dicionario)"
      ],
      "execution_count": null,
      "outputs": []
    },
    {
      "cell_type": "code",
      "metadata": {
        "id": "qSiLNr2lyHjU"
      },
      "source": [
        "for chave, valor in dicionario.items():\n",
        "  print(chave, valor)"
      ],
      "execution_count": null,
      "outputs": []
    },
    {
      "cell_type": "markdown",
      "metadata": {
        "id": "DKE8lbKVT670"
      },
      "source": [
        "## Tuplas"
      ]
    },
    {
      "cell_type": "code",
      "metadata": {
        "id": "p8xl5azdT9sy"
      },
      "source": [
        "t = (1,2, 3)\n"
      ],
      "execution_count": null,
      "outputs": []
    },
    {
      "cell_type": "code",
      "metadata": {
        "id": "h1Q4qUbu1w-c"
      },
      "source": [
        "t[0] = 10"
      ],
      "execution_count": null,
      "outputs": []
    },
    {
      "cell_type": "markdown",
      "metadata": {
        "id": "lGl4nOxCSHgX"
      },
      "source": [
        "# Funções"
      ]
    },
    {
      "cell_type": "code",
      "metadata": {
        "id": "5lsvSsB-2wV4"
      },
      "source": [
        "def diz_ola(nome):\n",
        "  print('Olá')\n",
        "  print('tudo bem?')\n",
        "  print(nome)"
      ],
      "execution_count": null,
      "outputs": []
    }
  ]
}